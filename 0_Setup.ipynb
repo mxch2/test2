{
 "cells": [
  {
   "attachments": {},
   "cell_type": "markdown",
   "metadata": {},
   "source": [
    "# Setting up Jupyter Python Environment\n",
    "There are several ways to setup your jupyter python environmnet. We will go from easiest to most advanced and from a local copy to a web based copy to a shared github binder hosted version. The goal is to avoid this: https://xkcd.com/1987/ \n",
    "\n",
    "Below the %% is a \"magic\" command and will be covered shortly. The image could be done via drag and drop and the image is in the same directory as the jupyter notebook for simplicity. Normally this would be in an \"\\images\" directory. See https://stackoverflow.com/questions/32370281/how-to-embed-image-or-picture-in-jupyter-notebook-either-from-a-local-machine-o\n",
    "\n",
    "Full list of magic commands... ... https://ipython.readthedocs.io/en/stable/interactive/magics.html#line-magics \n",
    "\n",
    "Nice list of jupyter tips and tricks ... https://towardsdatascience.com/optimizing-jupyter-notebook-tips-tricks-and-nbextensions-26d75d502663\n"
   ]
  },
  {
   "cell_type": "code",
   "execution_count": 17,
   "metadata": {},
   "outputs": [
    {
     "data": {
      "text/html": [
       "<img src=\"xkcd.png\" , width=\"600\" , height=\"400\">\n"
      ],
      "text/plain": [
       "<IPython.core.display.HTML object>"
      ]
     },
     "metadata": {},
     "output_type": "display_data"
    }
   ],
   "source": [
    "%%html   \n",
    "<img src=\"xkcd.png\" , width=\"600\" , height=\"400\">"
   ]
  },
  {
   "cell_type": "markdown",
   "metadata": {},
   "source": [
    "## Using a Local Jupyter Notebook -  Anaconda \n",
    "This is a local copy on your machine and will give you an Integrated Development Environment called Spyder as well, which is very helpful for programming. \n",
    "1. Go to  https://www.anaconda.com/ \n",
    "2. Select Anaconda Distribution - press Download Now button \n",
    "3. Select your platform Windows - Mac or Linux \n",
    "4. Select Python 3.7 (version 2.7 is for legacy code) \n",
    "5. The relevant install will download \n",
    "6. Run the steps for you platform to install the software"
   ]
  },
  {
   "cell_type": "markdown",
   "metadata": {},
   "source": [
    "## Exercise 1 Setup up Anaconda \n",
    "Setup Ananconda. This is on your local laptop. This will give you a full jupyter environment and is handy to have for running and testing notebooks \n",
    "\n",
    "Create a new environment \n",
    "1. Top left of the anaconda panel Select Environments (looks like a cube, or a container)\n",
    "2. Bottom select Create with plus sign icon \n",
    "3. In the dialog name the environment pd - this is short of pandas. Note that it wont let you have duplicate names! \n",
    "4. Keep the 3.5 python package default \n",
    "5. Press the create button - Note you need a connection to the internet for this to retrieve and setup packages \n",
    "6. You will see the a progress bar and will have a small set of packages - this will take a minute or two \n",
    "\n"
   ]
  },
  {
   "cell_type": "markdown",
   "metadata": {},
   "source": [
    "## Exercise 2 In Anaconda Install Pandas \n",
    "1. Be sure exercise 1 is completed - you should have a fresh environment setup called \"pd\"\n",
    "2. Change the packages to \"Not Installed\" - this will give the a large list of modules \n",
    "3. Search for \"pandas\"\n",
    "4. Select the pandas line and press apply \n",
    "5. It will check requirements select apply again \n",
    "6. You will see the requierements press ok \n",
    "7. The package will install \n",
    "\n",
    "\n",
    "\n"
   ]
  },
  {
   "cell_type": "markdown",
   "metadata": {},
   "source": [
    "## Exercise 3 In Anaconda Install Jupyter Notebook \n",
    "Install jupyter notebook\n",
    "\n",
    "1. Complete the exercises above \n",
    "2. Select Home icon - top right of the environments screen\n",
    "3. You wil see the new environment has been setup in the right corner \n",
    "4. Select Install Jupyter Notebook - this will take several minutes as modules are pulled down from the web \n",
    "5. Once completed the button will ready \"Launch\"\n",
    "6. Press launch and a notebook server will run on your laptop in  browser window \n"
   ]
  },
  {
   "cell_type": "markdown",
   "metadata": {},
   "source": [
    "## Exercise 4 In Anaconda Test Jupyter Notebook \n",
    "Create a notebook and test your setup \n",
    "\n",
    "1. Complete the exercises above \n",
    "2. In the jupyter notebook top right corner select New Notebook -> Python 3 \n",
    "3. You will have a new notebook called \"Untitle\" \n",
    "4. Click to change the title to \"Mybook\" - note that you cannot have spaces in the title \n",
    "5. At the first cell enter 2*3 and shift-Enter (or the triangle run icon) to run the cell \n",
    "6. This is your first notebook! \n",
    "\n",
    "We will cover notebook commands in detail in another notebook(!)\n",
    "\n",
    "Also worth doing at some point is adding extensions to Jupyter Notebook. See https://towardsdatascience.com/optimizing-jupyter-notebook-tips-tricks-and-nbextensions-26d75d502663 specifically adding a variable viewer and code completion\n",
    "\n",
    "- conda install -c conda-forge jupyter_contrib_nbextensions\n",
    "- conda install -c conda-forge jupyter_nbextensions_configurator\n",
    "- youtube https://www.youtube.com/watch?v=J6jphEdKO08 \n",
    "... although he uses pip install rather than conda .."
   ]
  },
  {
   "attachments": {},
   "cell_type": "markdown",
   "metadata": {},
   "source": [
    "## Exercise 5 Optional Jupypterlab as Part of Anaconda \n",
    "You can use jupyterlab as part of the local anaconda install or a pure stand alone environment to work with jupyter notebooks. \n",
    "For this to work you need to switch to the location where your files reside.\n",
    "\n",
    "1. Complete exercises above where anaconda is installed, an environment is setup and jupyberlab is installed and ready to launch\n",
    "2. In the anaconda navigator select Environments \n",
    "3. Select your environment \n",
    "4. Select open Terminal \n",
    "5. Change to the directory your code resides\n",
    "6. At the prompt type    jupyter lab \n",
    "7. A connection to Jupyter lab should be started and you will see your file system \n"
   ]
  },
  {
   "cell_type": "markdown",
   "metadata": {},
   "source": [
    "## Using a Simple Web Based Jupyter Notebook - Jupyterlab \n",
    "This is a web based version. You can create notebooks here and download to your local environment \n",
    "1. Go to https://jupyter.org/try\n",
    "2. Select JupytperLabs \n",
    "3. This will run a Binder server that will have your Jupyter environment in it \n",
    "4. Once the environment is setup select File -> New -> Notebook \n",
    "5. Select 3.7 notebook \n",
    "6. You can now create, download, upload notebooks \n",
    "\n",
    "This is running on the web so if your web connection goes down you will need to restart the kernal. You will see an indicator on the top far right of the jupyter notebook screen if there is a connection issue.\n",
    "\n",
    "You can create a shareable link to this notebook select the file - right click and select Shareable link and this will allow you to revisit the work you've done from a prior session. As a backup I would recommend saving to you local disk when done. \n"
   ]
  },
  {
   "cell_type": "markdown",
   "metadata": {},
   "source": [
    "## Exercise Optional Simple Web based Jupyter Lab Notebook\n",
    "Follow the steps above to create a notebook and download to your local system \n",
    "1. Select file in JupyterLab \n",
    "2. Right click \n",
    "3. Select download - note where it goes!\n",
    "4. Move to local directory for Anaconda \n",
    "5. Start jupyter notebook in that directory \n",
    "6. Load file into local version of jupyter notebooks \n"
   ]
  },
  {
   "cell_type": "markdown",
   "metadata": {},
   "source": [
    "## Using a Web Based Jupyter Notebook - Github and Binder \n",
    "This is a web based way of sharing notebooks that uses the same technology as Jupyterlab but now you control and share the Jupyter environment. Basically this is taking an existing github repository of jupyter notebook code and creating a container using docker to run on a server. If you want more details see resource below \n",
    "\n",
    "1. Youtube over of Binder 2018 Scipy 28 min https://www.youtube.com/watch?v=KcC0W5LP9GM&t=36s \n",
    "2. Youtube how-to use and setup Binder Sarah Bonaretti 7 min https://www.youtube.com/watch?v=owSGVOov9pQ \n",
    "3. Youtube using Github 20 min https://www.youtube.com/watch?v=nhNq2kIvi9s \n",
    "\n",
    "It's actually fairly simple to do this if the github part is simplified and used as dropbox rather than version control \n",
    "\n",
    "1. Setup up Github account \n",
    "2. Create a public repo \n",
    "3. Add a requirements.txt file for dependencies - more on this later  \n",
    "3. Upload jupyter notebook \n",
    "4. Go to binder and point it at github repo \n",
    "5. Copy the binder link \n",
    "\n",
    "This binder link can be redistributed and used by multiple users. "
   ]
  },
  {
   "cell_type": "markdown",
   "metadata": {},
   "source": [
    "## Exercise Github and Binder \n",
    "We're going to use the simplest way possible to use github which involves no version control\n",
    "\n",
    "Part 1 Github setup and File upload \n",
    "1. Setup Github account - user name, email - this will receive a verification email, password - will need to be fairly strong \n",
    "2. Verify that you're not a computer - usually a puzzle \n",
    "3. Select plan - Free \n",
    "4. Optional answer questions about experience and purpose of account \n",
    "5. Verify the email account that you used \n",
    "6. Create new repository (repo) call it test make it public \n",
    "7. Add MIT license \n",
    "8. Press Create repository \n",
    "9. For now we can skip workflows because steps for loading files will be done manually \n",
    "10. Select Code tab in github and Create file\n",
    "11. File name is \"requirements.txt\"\n",
    "12. File content is pandas \n",
    "13. Press Commit new file to master branch \n",
    "14. While we're here create a data directory as well - in file name add /data/info.txt and add a file (see https://github.com/KirstieJane/STEMMRoleModels/wiki/Creating-new-folders-in-GitHub-repository-via-the-browser) \n",
    "14. Add the python notebook file - Select Upload \n",
    "15. Find the file on your computer and upload \n",
    "\n",
    "  \n"
   ]
  },
  {
   "cell_type": "markdown",
   "metadata": {},
   "source": [
    "Part 2 Binder setup \n",
    "1. Enter https://mybinder.org/ \n",
    "2. Enter repo name \n",
    "3. Enter master \n",
    "4. Press launch \n",
    "5. Server should create jupyter notebook environment - be sure you have the right URL for your repo \n",
    "6. Use the URL to test \n",
    "\n",
    "this URL can be freely distributed to create and share this notebook \n",
    "\n",
    "\n"
   ]
  },
  {
   "cell_type": "code",
   "execution_count": null,
   "metadata": {},
   "outputs": [],
   "source": []
  },
  {
   "cell_type": "code",
   "execution_count": null,
   "metadata": {},
   "outputs": [],
   "source": []
  }
 ],
 "metadata": {
  "kernelspec": {
   "display_name": "Python 3",
   "language": "python",
   "name": "python3"
  },
  "language_info": {
   "codemirror_mode": {
    "name": "ipython",
    "version": 3
   },
   "file_extension": ".py",
   "mimetype": "text/x-python",
   "name": "python",
   "nbconvert_exporter": "python",
   "pygments_lexer": "ipython3",
   "version": "3.6.7"
  }
 },
 "nbformat": 4,
 "nbformat_minor": 2
}