{
 "cells": [
  {
   "cell_type": "markdown",
   "metadata": {},
   "source": [
    "## Learning Python \n",
    "There are a lot of great resources to learn Python. The main things needed are:\n",
    "\n",
    "- Correct version of Python to match examples, typically 3.5+ \n",
    "- Developement environment for examples Anaconda, Jupyter Notebook etc \n",
    "- Full code and examples available, usually on GitHub \n",
    "- Text book or PDF that's available \n",
    "- Full data thats used in examples, usually included on Github or via a URL  \n",
    "- Video series that goes with the book - OReilly, Linda, Udemy, Youtube etc. Optional but nice to have \n",
    "\n",
    "Python is a clean, clear and simple language to learn. The main issue that most new learners run into is using language features without understanding the concepts. For example using lists, objects, iterators, dictionaries, stacks, queues and so on are easy to use but must be understood. \n",
    "\n",
    "The above criteria are often met in online courses such as:\n",
    "- Coursera https://www.coursera.org/courses?query=python&\n",
    "- Datacamp https://www.datacamp.com/courses/intro-to-python-for-data-science \n",
    "- Udemy https://www.udemy.com/courses/search/?src=ukw&q=python%20\n",
    "- OReilly (need subscription) \n",
    "- LearnPython https://www.learnpython.org/\n",
    "- many others \n",
    "\n",
    "To run any of these courses be sure to have your Python environment setup as shown in previous notebook. Typicall you would use ananconda navigator and create a distinct environment for each course you were working with. \n"
   ]
  },
  {
   "cell_type": "markdown",
   "metadata": {},
   "source": [
    "## Exercise - Deitel Python \n",
    "Let's download and run several jupyter notebooks from Deitel Python for progammers course \n",
    "1. Go github https://github.com/pdeitel/PythonForProgrammers\n",
    "2. Press Clone or Download - select Zip \n",
    "3. After the download copy the zip file to your currently working jupyter notebooks environment \n",
    "4. Unzip files in the current jupyter notebook directory\n",
    "5. View through jupyter notebook - will be the tab with jupyter logo \n",
    "6. Open examples folder and walk through examples / ch02/  02_02 to 02_09 \n",
    "\n",
    "You are looking for files that have the ipynb file ending or extension... \n"
   ]
  },
  {
   "cell_type": "markdown",
   "metadata": {},
   "source": [
    "# Learning Jupyter Notebook \n",
    "Very good resource https://learn.onemonth.com/jupyter-notebook-a-beginners-tutorial/  read through this and try out examples below. \n",
    "    "
   ]
  },
  {
   "cell_type": "code",
   "execution_count": null,
   "metadata": {},
   "outputs": [],
   "source": []
  }
 ],
 "metadata": {
  "kernelspec": {
   "display_name": "Python 3",
   "language": "python",
   "name": "python3"
  },
  "language_info": {
   "codemirror_mode": {
    "name": "ipython",
    "version": 3
   },
   "file_extension": ".py",
   "mimetype": "text/x-python",
   "name": "python",
   "nbconvert_exporter": "python",
   "pygments_lexer": "ipython3",
   "version": "3.6.7"
  }
 },
 "nbformat": 4,
 "nbformat_minor": 2
}
