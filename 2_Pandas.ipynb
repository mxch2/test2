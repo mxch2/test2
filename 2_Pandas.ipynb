{
 "cells": [
  {
   "cell_type": "markdown",
   "metadata": {},
   "source": [
    "## Data Analysis Pandas \n",
    "This is a module that's used for a lot of scientific and data science projects and is a good way to get familiar with\n",
    "modules an python sytle syntax. Good resources are:\n",
    "    - Pandas for Everyone - Daniel Chen\n",
    "        - https://github.com/chendaniely/pandas_for_everyone \n",
    "        - Video https://www.youtube.com/watch?v=oGzU688xCUs (3:45:16) \n",
    "    - Python for Data Analysis - Mckinney https://github.com/wesm/pydata-book \n",
    "    - Documentation https://pandas.pydata.org/pandas-docs/stable/\n",
    "    - Python Data Science handbook https://github.com/jakevdp/PythonDataScienceHandbook \n",
    "    \n",
    "\n",
    "    \n",
    "    "
   ]
  },
  {
   "cell_type": "code",
   "execution_count": null,
   "metadata": {},
   "outputs": [],
   "source": []
  }
 ],
 "metadata": {
  "kernelspec": {
   "display_name": "Python 3",
   "language": "python",
   "name": "python3"
  },
  "language_info": {
   "codemirror_mode": {
    "name": "ipython",
    "version": 3
   },
   "file_extension": ".py",
   "mimetype": "text/x-python",
   "name": "python",
   "nbconvert_exporter": "python",
   "pygments_lexer": "ipython3",
   "version": "3.6.7"
  }
 },
 "nbformat": 4,
 "nbformat_minor": 2
}
